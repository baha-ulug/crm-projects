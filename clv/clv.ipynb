{
 "cells": [
  {
   "cell_type": "code",
   "execution_count": 1,
   "metadata": {},
   "outputs": [],
   "source": [
    "##############################################################\n",
    "# 1. Data Preperation\n",
    "##############################################################"
   ]
  },
  {
   "cell_type": "code",
   "execution_count": 2,
   "metadata": {},
   "outputs": [],
   "source": [
    "from datetime import timedelta\n",
    "import pandas as pd\n",
    "import matplotlib.pyplot as plt\n",
    "from lifetimes import BetaGeoFitter\n",
    "from lifetimes import GammaGammaFitter\n",
    "from lifetimes.plotting import plot_period_transactions\n",
    "from dotenv import load_dotenv\n",
    "import os \n",
    "\n",
    "pd.set_option('display.max_columns', None)\n",
    "pd.set_option('display.max_rows', 10)\n",
    "pd.set_option('display.float_format', lambda x: '%.5f' % x)"
   ]
  },
  {
   "cell_type": "code",
   "execution_count": 3,
   "metadata": {},
   "outputs": [],
   "source": [
    "def read_data():\n",
    "    #df =pd.read_excel(\"datasets/online_retail_II.xlsx\", sheet_name=\"Year 2010-2011\")\n",
    "    load_dotenv()\n",
    "    DATASET_PATH = os.getenv(\"DATASET_PATH\")\n",
    "    df = pd.read_excel(DATASET_PATH)\n",
    "    return df\n",
    "df = read_data()"
   ]
  },
  {
   "cell_type": "code",
   "execution_count": 4,
   "metadata": {},
   "outputs": [],
   "source": [
    "def outlier_thresholds(dataframe, variable):\n",
    "    quartile1 = dataframe[variable].quantile(0.01)\n",
    "    quartile3 = dataframe[variable].quantile(0.99)\n",
    "    interquantile_range = quartile3 - quartile1\n",
    "    up_limit = quartile3 + 1.5 * interquantile_range\n",
    "    low_limit = quartile1 - 1.5 * interquantile_range\n",
    "    return low_limit, up_limit\n",
    "\n",
    "def replace_with_thresholds(dataframe, variable):\n",
    "    low_limit, up_limit = outlier_thresholds(dataframe, variable)\n",
    "    # dataframe.loc[(dataframe[variable] < low_limit), variable] = low_limit\n",
    "    dataframe.loc[(dataframe[variable] > up_limit), variable] = up_limit\n",
    "    \n",
    "def prep_data(df):\n",
    "    df.dropna(inplace=True)\n",
    "    df = df[~df[\"Invoice\"].str.contains(\"C\", na=False)]\n",
    "    df = df[df[\"Quantity\"] > 0]\n",
    "    replace_with_thresholds(df, \"Quantity\")\n",
    "    replace_with_thresholds(df, \"Price\")\n",
    "    df[\"TotalPrice\"] = df[\"Price\"] * df[\"Quantity\"]\n",
    "    # UK müşterilerini seçme\n",
    "    df = df[df[\"Country\"] == \"United Kingdom\"]\n",
    "    return df\n",
    "\n",
    "df = prep_data(df)\n"
   ]
  },
  {
   "cell_type": "code",
   "execution_count": 5,
   "metadata": {},
   "outputs": [],
   "source": [
    "def get_analyse_date(df):\n",
    "    max_date = df[\"InvoiceDate\"].max()\n",
    "    today_date = max_date + timedelta(days=2)\n",
    "    #today_date = dt.datetime(2011, 12, 11)\n",
    "    return today_date\n",
    "\n",
    "def rfm_df(df):\n",
    "    today_date = get_analyse_date(df)\n",
    "    rfm = df.groupby('Customer ID').agg({'InvoiceDate': [lambda date: (date.max()-date.min()).days,\n",
    "                                                        lambda date: (today_date-date.min()).days],\n",
    "                                        'Invoice': lambda num: num.nunique(),\n",
    "                                        'TotalPrice': lambda price: price.sum()})\n",
    "    rfm.columns = rfm.columns.droplevel(0)\n",
    "\n",
    "    # sütunları isimlendirme\n",
    "    rfm.columns = ['recency_cltv_p', 'tenure', 'frequency', 'monetary']\n",
    "\n",
    "    # monetary avg hesaplama --> Gamma Gamma modeli bu şekilde istiyor\n",
    "    # We need to calculate the average profit:\n",
    "    rfm[\"monetary\"] = rfm[\"monetary\"] / rfm[\"frequency\"]\n",
    "\n",
    "    rfm.rename(columns={\"monetary\": \"monetary_avg\"}, inplace=True)\n",
    "\n",
    "    # recency ve tenure değişkenlerini haftalığa çevirme\n",
    "    # BG/NBD model asks us for recency and T weekly\n",
    "    rfm[\"recency_weekly_p\"] = rfm[\"recency_cltv_p\"] / 7\n",
    "    rfm[\"tenure_weekly_p\"] = rfm[\"tenure\"] / 7\n",
    "\n",
    "    # kontroller\n",
    "    rfm = rfm[rfm[\"monetary_avg\"] > 0]\n",
    "    rfm = rfm[rfm[\"frequency\"] > 1]\n",
    "    rfm[\"frequency\"] = rfm[\"frequency\"].astype(int)\n",
    "    return rfm\n",
    "\n",
    "rfm = rfm_df(df)"
   ]
  },
  {
   "cell_type": "code",
   "execution_count": 6,
   "metadata": {},
   "outputs": [],
   "source": [
    "def fit_bgf(rfm):\n",
    "    bgf = BetaGeoFitter(penalizer_coef=0.001)\n",
    "    bgf.fit(rfm['frequency'],\n",
    "            rfm['recency_weekly_p'],\n",
    "            rfm['tenure_weekly_p'])\n",
    "    return bgf\n",
    "\n",
    "bgf = fit_bgf(rfm)"
   ]
  },
  {
   "cell_type": "code",
   "execution_count": 7,
   "metadata": {},
   "outputs": [
    {
     "name": "stdout",
     "output_type": "stream",
     "text": [
      "Customer ID\n",
      "17850.00000   55.85377\n",
      "12748.00000   52.79912\n",
      "15311.00000   44.23406\n",
      "13089.00000   39.86941\n",
      "14606.00000   37.52128\n",
      "13694.00000   34.29744\n",
      "17841.00000   33.52707\n",
      "18102.00000   32.73657\n",
      "15061.00000   31.62301\n",
      "17949.00000   27.28038\n",
      "dtype: float64\n"
     ]
    }
   ],
   "source": [
    "def get_top_customers(bgf,rfm,week=24,n_cust=10):\n",
    "    # week/4 ay içinde en çok satın alma beklediğimiz n_cust müşteri kimdir?\n",
    "    top_customers = bgf.conditional_expected_number_of_purchases_up_to_time(week,\n",
    "                                                            rfm['frequency'],\n",
    "                                                            rfm['recency_weekly_p'],\n",
    "                                                            rfm['tenure_weekly_p']).sort_values(ascending=False)\n",
    "    print(top_customers.head(n_cust))\n",
    "    \n",
    "# Who are the 10 customers we expect the most to purchase in a 24 weeks?\n",
    "get_top_customers(bgf=bgf,rfm=rfm,week=24,n_cust=10)"
   ]
  },
  {
   "cell_type": "code",
   "execution_count": 8,
   "metadata": {},
   "outputs": [],
   "source": [
    "def predict_exp_sales(bgf,rfm,week=24):\n",
    "    #What will be the expected sales in a given week?\n",
    "    rfm[f\"exp_sales_{int(week/4)}_month\"] = bgf.predict(week,\n",
    "                                            rfm['frequency'],\n",
    "                                            rfm['recency_weekly_p'],\n",
    "                                            rfm['tenure_weekly_p'])\n",
    "    rfm = rfm.sort_values(f\"exp_sales_{int(week/4)}_month\", ascending=False)\n",
    "    return rfm\n",
    "rfm = predict_exp_sales(bgf,rfm,week=16)"
   ]
  },
  {
   "cell_type": "code",
   "execution_count": 9,
   "metadata": {},
   "outputs": [
    {
     "data": {
      "text/html": [
       "<div>\n",
       "<style scoped>\n",
       "    .dataframe tbody tr th:only-of-type {\n",
       "        vertical-align: middle;\n",
       "    }\n",
       "\n",
       "    .dataframe tbody tr th {\n",
       "        vertical-align: top;\n",
       "    }\n",
       "\n",
       "    .dataframe thead th {\n",
       "        text-align: right;\n",
       "    }\n",
       "</style>\n",
       "<table border=\"1\" class=\"dataframe\">\n",
       "  <thead>\n",
       "    <tr style=\"text-align: right;\">\n",
       "      <th></th>\n",
       "      <th>recency_cltv_p</th>\n",
       "      <th>tenure</th>\n",
       "      <th>frequency</th>\n",
       "      <th>monetary_avg</th>\n",
       "      <th>recency_weekly_p</th>\n",
       "      <th>tenure_weekly_p</th>\n",
       "      <th>exp_sales_4_month</th>\n",
       "    </tr>\n",
       "    <tr>\n",
       "      <th>Customer ID</th>\n",
       "      <th></th>\n",
       "      <th></th>\n",
       "      <th></th>\n",
       "      <th></th>\n",
       "      <th></th>\n",
       "      <th></th>\n",
       "      <th></th>\n",
       "    </tr>\n",
       "  </thead>\n",
       "  <tbody>\n",
       "    <tr>\n",
       "      <th>17850.00000</th>\n",
       "      <td>362</td>\n",
       "      <td>371</td>\n",
       "      <td>155</td>\n",
       "      <td>330.37981</td>\n",
       "      <td>51.71429</td>\n",
       "      <td>53.00000</td>\n",
       "      <td>37.50662</td>\n",
       "    </tr>\n",
       "    <tr>\n",
       "      <th>12748.00000</th>\n",
       "      <td>369</td>\n",
       "      <td>372</td>\n",
       "      <td>144</td>\n",
       "      <td>141.18451</td>\n",
       "      <td>52.71429</td>\n",
       "      <td>53.14286</td>\n",
       "      <td>35.45495</td>\n",
       "    </tr>\n",
       "    <tr>\n",
       "      <th>15311.00000</th>\n",
       "      <td>373</td>\n",
       "      <td>375</td>\n",
       "      <td>121</td>\n",
       "      <td>461.96211</td>\n",
       "      <td>53.28571</td>\n",
       "      <td>53.57143</td>\n",
       "      <td>29.70236</td>\n",
       "    </tr>\n",
       "    <tr>\n",
       "      <th>13089.00000</th>\n",
       "      <td>368</td>\n",
       "      <td>374</td>\n",
       "      <td>109</td>\n",
       "      <td>531.30303</td>\n",
       "      <td>52.57143</td>\n",
       "      <td>53.42857</td>\n",
       "      <td>26.77198</td>\n",
       "    </tr>\n",
       "    <tr>\n",
       "      <th>14606.00000</th>\n",
       "      <td>369</td>\n",
       "      <td>373</td>\n",
       "      <td>102</td>\n",
       "      <td>182.87608</td>\n",
       "      <td>52.71429</td>\n",
       "      <td>53.28571</td>\n",
       "      <td>25.19560</td>\n",
       "    </tr>\n",
       "  </tbody>\n",
       "</table>\n",
       "</div>"
      ],
      "text/plain": [
       "             recency_cltv_p  tenure  frequency  monetary_avg  \\\n",
       "Customer ID                                                    \n",
       "17850.00000             362     371        155     330.37981   \n",
       "12748.00000             369     372        144     141.18451   \n",
       "15311.00000             373     375        121     461.96211   \n",
       "13089.00000             368     374        109     531.30303   \n",
       "14606.00000             369     373        102     182.87608   \n",
       "\n",
       "             recency_weekly_p  tenure_weekly_p  exp_sales_4_month  \n",
       "Customer ID                                                        \n",
       "17850.00000          51.71429         53.00000           37.50662  \n",
       "12748.00000          52.71429         53.14286           35.45495  \n",
       "15311.00000          53.28571         53.57143           29.70236  \n",
       "13089.00000          52.57143         53.42857           26.77198  \n",
       "14606.00000          52.71429         53.28571           25.19560  "
      ]
     },
     "execution_count": 9,
     "metadata": {},
     "output_type": "execute_result"
    }
   ],
   "source": [
    "rfm.head()"
   ]
  },
  {
   "cell_type": "code",
   "execution_count": 10,
   "metadata": {},
   "outputs": [
    {
     "name": "stdout",
     "output_type": "stream",
     "text": [
      "Number of transaction in 24 week is: 9493.576111222057\n"
     ]
    }
   ],
   "source": [
    "def expected_transaction(bgf,rfm,week=24):\n",
    "    # 6 Ayda Tüm Şirketin Beklenen Satış Sayısı Nedir?  952.4548865072431\n",
    "    trasaction_count = bgf.predict(week,\n",
    "                rfm['frequency'],\n",
    "                rfm['recency_weekly_p'],\n",
    "                rfm['tenure_weekly_p']).sum()\n",
    "    print(f\"Number of transaction in {week} week is: {trasaction_count}\")\n",
    "    \n",
    "expected_transaction(bgf,rfm,week=24)"
   ]
  },
  {
   "cell_type": "code",
   "execution_count": 11,
   "metadata": {},
   "outputs": [
    {
     "data": {
      "image/png": "[encoded data removed]",
      "text/plain": [
       "<Figure size 640x480 with 1 Axes>"
      ]
     },
     "metadata": {},
     "output_type": "display_data"
    }
   ],
   "source": [
    "def eval_predictions(bgf):\n",
    "    # Tahmin Sonuçlarının Değerlendirilmesi\n",
    "    plot_period_transactions(bgf)\n",
    "    plt.show()\n",
    "    \n",
    "eval_predictions(bgf)"
   ]
  },
  {
   "cell_type": "code",
   "execution_count": 12,
   "metadata": {},
   "outputs": [],
   "source": [
    "def fit_ggf(rfm):\n",
    "    ggf = GammaGammaFitter(penalizer_coef=0.01)\n",
    "    ggf.fit(rfm['frequency'], rfm['monetary_avg'])\n",
    "    return ggf\n",
    "\n",
    "ggf = fit_ggf(rfm)"
   ]
  },
  {
   "cell_type": "code",
   "execution_count": 19,
   "metadata": {},
   "outputs": [],
   "source": [
    "def pred_ggf(ggf,rfm):\n",
    "    rfm[\"expected_average_profit\"] = ggf.conditional_expected_average_profit(rfm['frequency'],\n",
    "                                                                            rfm['monetary_avg'])\n",
    "    return rfm\n",
    "rfm = pred_ggf(ggf,rfm)"
   ]
  },
  {
   "cell_type": "code",
   "execution_count": 20,
   "metadata": {},
   "outputs": [
    {
     "name": "stdout",
     "output_type": "stream",
     "text": [
      "             recency_cltv_p  tenure  frequency  monetary_avg  \\\n",
      "Customer ID                                                    \n",
      "17450.00000              70      75          7    5321.58500   \n",
      "14091.00000              44     335          2    4584.04500   \n",
      "\n",
      "             recency_weekly_p  tenure_weekly_p  exp_sales_4_month  \\\n",
      "Customer ID                                                         \n",
      "17450.00000          10.00000         10.71429            6.20647   \n",
      "14091.00000           6.28571         47.85714            0.15663   \n",
      "\n",
      "             expected_average_profit  \n",
      "Customer ID                           \n",
      "17450.00000               5455.99080  \n",
      "14091.00000               5016.74386  \n"
     ]
    }
   ],
   "source": [
    "print(rfm.sort_values(\"expected_average_profit\", ascending=False).head(2))"
   ]
  },
  {
   "cell_type": "code",
   "execution_count": 21,
   "metadata": {},
   "outputs": [],
   "source": [
    "def calculate_clv(bgf,ggf,rfm,month):\n",
    "    cltv = ggf.customer_lifetime_value(bgf,\n",
    "                                    rfm['frequency'],\n",
    "                                    rfm['recency_weekly_p'],\n",
    "                                    rfm['tenure_weekly_p'],\n",
    "                                    rfm['monetary_avg'],\n",
    "                                    time=month,\n",
    "                                    freq=\"W\",\n",
    "                                    discount_rate=0.01)\n",
    "\n",
    "    cltv = cltv.reset_index()\n",
    "    cltv.sort_values(by=\"clv\", ascending=False).head(50)\n",
    "    rfm_cltv_final = rfm.merge(cltv, on=\"Customer ID\", how=\"left\")\n",
    "    rfm_cltv_final.sort_values(by=\"clv\", ascending=False).head()\n",
    "    return rfm_cltv_final\n",
    "\n",
    "rfm_cltv_final = calculate_clv(bgf,ggf,rfm,month=6)"
   ]
  },
  {
   "cell_type": "code",
   "execution_count": 16,
   "metadata": {},
   "outputs": [
    {
     "name": "stdout",
     "output_type": "stream",
     "text": [
      "   Customer ID  recency_cltv_p  tenure  frequency  monetary_avg  \\\n",
      "0  17850.00000             362     371        155     330.37981   \n",
      "1  12748.00000             369     372        144     141.18451   \n",
      "2  15311.00000             373     375        121     461.96211   \n",
      "3  13089.00000             368     374        109     531.30303   \n",
      "4  14606.00000             369     373        102     182.87608   \n",
      "\n",
      "   recency_weekly_p  tenure_weekly_p  exp_sales_4_month  \\\n",
      "0          51.71429         53.00000           37.50662   \n",
      "1          52.71429         53.14286           35.45495   \n",
      "2          53.28571         53.57143           29.70236   \n",
      "3          52.57143         53.42857           26.77198   \n",
      "4          52.71429         53.28571           25.19560   \n",
      "\n",
      "   expected_average_profit         clv  \n",
      "0                330.77051 19353.81627  \n",
      "1                141.37916  7819.88813  \n",
      "2                462.64979 21438.82017  \n",
      "3                532.17597 22227.23360  \n",
      "4                183.22133  7201.82806  \n"
     ]
    }
   ],
   "source": [
    "print(rfm_cltv_final.head())"
   ]
  },
  {
   "cell_type": "code",
   "execution_count": 17,
   "metadata": {},
   "outputs": [
    {
     "name": "stdout",
     "output_type": "stream",
     "text": [
      "(2665, 10)\n"
     ]
    }
   ],
   "source": [
    "print(rfm_cltv_final.shape)"
   ]
  }
 ],
 "metadata": {
  "kernelspec": {
   "display_name": ".crm_venv",
   "language": "python",
   "name": "python3"
  },
  "language_info": {
   "codemirror_mode": {
    "name": "ipython",
    "version": 3
   },
   "file_extension": ".py",
   "mimetype": "text/x-python",
   "name": "python",
   "nbconvert_exporter": "python",
   "pygments_lexer": "ipython3",
   "version": "3.11.3"
  },
  "orig_nbformat": 4
 },
 "nbformat": 4,
 "nbformat_minor": 2
}
